{
 "cells": [
  {
   "cell_type": "code",
   "execution_count": null,
   "metadata": {},
   "outputs": [],
   "source": [
    "AWS_KEY_ID = 'YOUR_ID'\n",
    "AWS_SECRET = 'YOUR_SECRET_KEY'"
   ]
  },
  {
   "cell_type": "code",
   "execution_count": 17,
   "metadata": {},
   "outputs": [],
   "source": [
    "import boto3\n",
    "from botocore.exceptions import NoCredentialsError\n",
    "import pandas as pd"
   ]
  },
  {
   "cell_type": "code",
   "execution_count": 18,
   "id": "78ba734c",
   "metadata": {},
   "outputs": [
    {
     "name": "stdout",
     "output_type": "stream",
     "text": [
      "S3_bucket_basics_with_boto3.ipynb  addresses.csv\n"
     ]
    }
   ],
   "source": [
    "ls"
   ]
  },
  {
   "cell_type": "code",
   "execution_count": 19,
   "id": "168df404",
   "metadata": {},
   "outputs": [],
   "source": [
    "bucket_name = 'shabbirkibucket'\n",
    "myfile_s3 = 'addresses.csv'\n",
    "myfile_l = '/Users/shabbirgovernor/Desktop/Youtube/addresses.csv'"
   ]
  },
  {
   "cell_type": "code",
   "execution_count": 20,
   "metadata": {},
   "outputs": [
    {
     "data": {
      "text/html": [
       "<div>\n",
       "<style scoped>\n",
       "    .dataframe tbody tr th:only-of-type {\n",
       "        vertical-align: middle;\n",
       "    }\n",
       "\n",
       "    .dataframe tbody tr th {\n",
       "        vertical-align: top;\n",
       "    }\n",
       "\n",
       "    .dataframe thead th {\n",
       "        text-align: right;\n",
       "    }\n",
       "</style>\n",
       "<table border=\"1\" class=\"dataframe\">\n",
       "  <thead>\n",
       "    <tr style=\"text-align: right;\">\n",
       "      <th></th>\n",
       "      <th>John</th>\n",
       "      <th>Doe</th>\n",
       "      <th>120 jefferson st.</th>\n",
       "      <th>Riverside</th>\n",
       "      <th>NJ</th>\n",
       "      <th>08075</th>\n",
       "    </tr>\n",
       "  </thead>\n",
       "  <tbody>\n",
       "    <tr>\n",
       "      <th>0</th>\n",
       "      <td>Jack</td>\n",
       "      <td>McGinnis</td>\n",
       "      <td>220 hobo Av.</td>\n",
       "      <td>Phila</td>\n",
       "      <td>PA</td>\n",
       "      <td>9119</td>\n",
       "    </tr>\n",
       "    <tr>\n",
       "      <th>1</th>\n",
       "      <td>John \"Da Man\"</td>\n",
       "      <td>Repici</td>\n",
       "      <td>120 Jefferson St.</td>\n",
       "      <td>Riverside</td>\n",
       "      <td>NJ</td>\n",
       "      <td>8075</td>\n",
       "    </tr>\n",
       "    <tr>\n",
       "      <th>2</th>\n",
       "      <td>Stephen</td>\n",
       "      <td>Tyler</td>\n",
       "      <td>7452 Terrace \"At the Plaza\" road</td>\n",
       "      <td>SomeTown</td>\n",
       "      <td>SD</td>\n",
       "      <td>91234</td>\n",
       "    </tr>\n",
       "    <tr>\n",
       "      <th>3</th>\n",
       "      <td>NaN</td>\n",
       "      <td>Blankman</td>\n",
       "      <td>NaN</td>\n",
       "      <td>SomeTown</td>\n",
       "      <td>SD</td>\n",
       "      <td>298</td>\n",
       "    </tr>\n",
       "    <tr>\n",
       "      <th>4</th>\n",
       "      <td>Joan \"the bone\", Anne</td>\n",
       "      <td>Jet</td>\n",
       "      <td>9th, at Terrace plc</td>\n",
       "      <td>Desert City</td>\n",
       "      <td>CO</td>\n",
       "      <td>123</td>\n",
       "    </tr>\n",
       "  </tbody>\n",
       "</table>\n",
       "</div>"
      ],
      "text/plain": [
       "                    John       Doe                 120 jefferson st.  \\\n",
       "0                   Jack  McGinnis                      220 hobo Av.   \n",
       "1          John \"Da Man\"    Repici                 120 Jefferson St.   \n",
       "2                Stephen     Tyler  7452 Terrace \"At the Plaza\" road   \n",
       "3                    NaN  Blankman                               NaN   \n",
       "4  Joan \"the bone\", Anne       Jet               9th, at Terrace plc   \n",
       "\n",
       "     Riverside   NJ   08075  \n",
       "0        Phila   PA    9119  \n",
       "1    Riverside   NJ    8075  \n",
       "2     SomeTown   SD   91234  \n",
       "3     SomeTown   SD     298  \n",
       "4  Desert City   CO     123  "
      ]
     },
     "execution_count": 20,
     "metadata": {},
     "output_type": "execute_result"
    }
   ],
   "source": [
    "data = pd.read_csv(myfile_l)\n",
    "data.head()"
   ]
  },
  {
   "cell_type": "code",
   "execution_count": 21,
   "id": "2c6b55a4",
   "metadata": {},
   "outputs": [],
   "source": [
    "s3 = boto3.client(\"s3\", \n",
    "                  region_name='us-east-1', \n",
    "                  aws_access_key_id = AWS_KEY_ID, \n",
    "                  aws_secret_access_key = AWS_SECRET)"
   ]
  },
  {
   "cell_type": "code",
   "execution_count": 32,
   "id": "530990cf",
   "metadata": {},
   "outputs": [],
   "source": [
    "#List the buckets\n",
    "def list_bucket():\n",
    "    bucket_response = s3.list_buckets()\n",
    "    buckets = bucket_response[\"Buckets\"]\n",
    "    print(\"Buckets:\",buckets)\n",
    "\n",
    "def create_bucket(bucket_name):\n",
    "    bucket = s3.create_bucket(Bucket=bucket_name)\n",
    "    print(bucket)\n",
    "    \n",
    "def delete_bucket(bucket_name):\n",
    "    response = s3.delete_bucket(Bucket=bucket_name)\n",
    "    print(response)\n",
    "    \n",
    "def list_objects(bucket_name):\n",
    "    response = s3.list_objects(Bucket=bucket_name,MaxKeys=10,Prefix=\"address\")\n",
    "    print(response)\n",
    "    \n",
    "def file_upload(myfile_l,bucket_name,myfile_s3):\n",
    "    #s3.upload_file(Filename=myfile_l, Bucket=bucket_name, Key=AWS_SECRET)\n",
    "    try:\n",
    "        s3.upload_file(myfile_l, bucket_name, myfile_s3)\n",
    "        print(\"Upload Successful\")\n",
    "        return True\n",
    "    except FileNotFoundError:\n",
    "        print(\"The file was not found\")\n",
    "        return False\n",
    "    except NoCredentialsError:\n",
    "        print(\"Credentials not available\")\n",
    "        return False\n",
    "\n",
    "    print(myfile_l,'uploaded to :',bucket_name)\n",
    "    \n",
    "\n",
    "def file_download(bucket_name, myfile_s3, myfile_l):\n",
    "    try: \n",
    "        s3.download_file(bucket_name, myfile_s3, myfile_l)\n",
    "        print(myfile_s3,'downloaded to local folder')\n",
    "        return True\n",
    "    except FileNotFoundError:\n",
    "        print(\"The file was not found\")\n",
    "        return False\n",
    "    except NoCredentialsError:\n",
    "        print(\"Credentials not available\")\n",
    "        return False\n",
    "    \n",
    "def obj_metadata(bucket_name, myfile_s3):\n",
    "    response = s3.head_object(Bucket=bucket_name, Key=myfile_s3)\n",
    "    print(response)\n",
    "    \n",
    "def delete_obj(bucket_name, myfile_s3):\n",
    "    s3.delete_object(Bucket=bucket_name, Key=myfile_s3)\n",
    "    print('All object in bucket deleted')"
   ]
  },
  {
   "cell_type": "code",
   "execution_count": 23,
   "metadata": {},
   "outputs": [
    {
     "name": "stdout",
     "output_type": "stream",
     "text": [
      "Buckets: []\n"
     ]
    }
   ],
   "source": [
    "list_bucket()"
   ]
  },
  {
   "cell_type": "code",
   "execution_count": 27,
   "id": "77485cbd",
   "metadata": {},
   "outputs": [
    {
     "name": "stdout",
     "output_type": "stream",
     "text": [
      "{'ResponseMetadata': {'RequestId': 'BP3DZ3ZRTVMBNC3B', 'HostId': 'H8qUaEE9n02Hoq1XVv2i68w/wRneVwrhp5f6uVXpzzv+3anubMBKlFGH+ZZkAyhAvKJ1ChrPxss=', 'HTTPStatusCode': 200, 'HTTPHeaders': {'x-amz-id-2': 'H8qUaEE9n02Hoq1XVv2i68w/wRneVwrhp5f6uVXpzzv+3anubMBKlFGH+ZZkAyhAvKJ1ChrPxss=', 'x-amz-request-id': 'BP3DZ3ZRTVMBNC3B', 'date': 'Thu, 14 Oct 2021 10:18:45 GMT', 'location': '/shabbirkibucket', 'server': 'AmazonS3', 'content-length': '0'}, 'RetryAttempts': 0}, 'Location': '/shabbirkibucket'}\n",
      "Buckets: [{'Name': 'shabbirkibucket', 'CreationDate': datetime.datetime(2021, 10, 14, 10, 18, 45, tzinfo=tzutc())}]\n"
     ]
    }
   ],
   "source": [
    "create_bucket(bucket_name)\n",
    "list_bucket()"
   ]
  },
  {
   "cell_type": "code",
   "execution_count": 26,
   "metadata": {},
   "outputs": [
    {
     "name": "stdout",
     "output_type": "stream",
     "text": [
      "{'ResponseMetadata': {'RequestId': 'DZ7BJP5R7NF9832C', 'HostId': 'CiLPqFffUk2nA3j80x1yin4t6+WFjvxi4f5Q1SZYq8ZZt/HMbilgdmDIC+YodJDqTpqIjVSDHhc=', 'HTTPStatusCode': 204, 'HTTPHeaders': {'x-amz-id-2': 'CiLPqFffUk2nA3j80x1yin4t6+WFjvxi4f5Q1SZYq8ZZt/HMbilgdmDIC+YodJDqTpqIjVSDHhc=', 'x-amz-request-id': 'DZ7BJP5R7NF9832C', 'date': 'Thu, 14 Oct 2021 10:18:40 GMT', 'server': 'AmazonS3'}, 'RetryAttempts': 0}}\n",
      "Buckets: []\n"
     ]
    }
   ],
   "source": [
    "delete_bucket(bucket_name)\n",
    "list_bucket()"
   ]
  },
  {
   "cell_type": "code",
   "execution_count": 28,
   "metadata": {},
   "outputs": [
    {
     "name": "stdout",
     "output_type": "stream",
     "text": [
      "{'ResponseMetadata': {'RequestId': 'PNH60NRAEAX433S0', 'HostId': 'BvRusZSGp76RBVseSFrHl2uWB8c6kQiW67trP8de7c5k7ZIh5twYhfDgqltz4qOG2jm/RoCKbNA=', 'HTTPStatusCode': 200, 'HTTPHeaders': {'x-amz-id-2': 'BvRusZSGp76RBVseSFrHl2uWB8c6kQiW67trP8de7c5k7ZIh5twYhfDgqltz4qOG2jm/RoCKbNA=', 'x-amz-request-id': 'PNH60NRAEAX433S0', 'date': 'Thu, 14 Oct 2021 10:18:53 GMT', 'x-amz-bucket-region': 'us-east-1', 'content-type': 'application/xml', 'transfer-encoding': 'chunked', 'server': 'AmazonS3'}, 'RetryAttempts': 0}, 'IsTruncated': False, 'Marker': '', 'Name': 'shabbirkibucket', 'Prefix': 'address', 'MaxKeys': 10, 'EncodingType': 'url'}\n"
     ]
    }
   ],
   "source": [
    "# List objects present in a bucket\n",
    "list_objects(bucket_name)"
   ]
  },
  {
   "cell_type": "code",
   "execution_count": 34,
   "metadata": {},
   "outputs": [
    {
     "name": "stdout",
     "output_type": "stream",
     "text": [
      "Upload Successful\n"
     ]
    },
    {
     "data": {
      "text/plain": [
       "True"
      ]
     },
     "execution_count": 34,
     "metadata": {},
     "output_type": "execute_result"
    }
   ],
   "source": [
    "#Uploading files to a bucket\n",
    "file_upload(myfile_l,bucket_name,myfile_s3)"
   ]
  },
  {
   "cell_type": "code",
   "execution_count": 30,
   "metadata": {},
   "outputs": [
    {
     "name": "stdout",
     "output_type": "stream",
     "text": [
      "addresses.csv downloaded to local folder\n"
     ]
    },
    {
     "data": {
      "text/plain": [
       "True"
      ]
     },
     "execution_count": 30,
     "metadata": {},
     "output_type": "execute_result"
    }
   ],
   "source": [
    "#Downloading files from a bucket\n",
    "myfile_l = '/Users/shabbirgovernor/Desktop/Youtube/addresses1.csv'\n",
    "file_download(bucket_name, myfile_s3, myfile_l)"
   ]
  },
  {
   "cell_type": "code",
   "execution_count": 31,
   "metadata": {},
   "outputs": [
    {
     "name": "stdout",
     "output_type": "stream",
     "text": [
      "{'ResponseMetadata': {'RequestId': '19J9JEASDMX8P7BV', 'HostId': 'SDjl7JwNm1UoFOVdHL43Ul/ZsccVFU2la2nzdN6jZwvedMwiTAoSuPdI8zisc3gThKSXuRMHokY=', 'HTTPStatusCode': 200, 'HTTPHeaders': {'x-amz-id-2': 'SDjl7JwNm1UoFOVdHL43Ul/ZsccVFU2la2nzdN6jZwvedMwiTAoSuPdI8zisc3gThKSXuRMHokY=', 'x-amz-request-id': '19J9JEASDMX8P7BV', 'date': 'Thu, 14 Oct 2021 10:21:38 GMT', 'last-modified': 'Thu, 14 Oct 2021 10:19:25 GMT', 'etag': '\"32078264d936c895907f1de187734274\"', 'accept-ranges': 'bytes', 'content-type': 'binary/octet-stream', 'server': 'AmazonS3', 'content-length': '328'}, 'RetryAttempts': 0}, 'AcceptRanges': 'bytes', 'LastModified': datetime.datetime(2021, 10, 14, 10, 19, 25, tzinfo=tzutc()), 'ContentLength': 328, 'ETag': '\"32078264d936c895907f1de187734274\"', 'ContentType': 'binary/octet-stream', 'Metadata': {}}\n"
     ]
    }
   ],
   "source": [
    "# Get object's metadata (last modification time, size in bytes)\n",
    "obj_metadata(bucket_name, myfile_s3)"
   ]
  },
  {
   "cell_type": "code",
   "execution_count": 33,
   "metadata": {},
   "outputs": [
    {
     "name": "stdout",
     "output_type": "stream",
     "text": [
      "All object in bucket deleted\n"
     ]
    }
   ],
   "source": [
    "# Delete object\n",
    "delete_obj(bucket_name, myfile_s3)"
   ]
  },
  {
   "cell_type": "code",
   "execution_count": null,
   "metadata": {},
   "outputs": [],
   "source": []
  }
 ],
 "metadata": {
  "interpreter": {
   "hash": "40d3a090f54c6569ab1632332b64b2c03c39dcf918b08424e98f38b5ae0af88f"
  },
  "kernelspec": {
   "display_name": "Python 3.8.8 64-bit ('base': conda)",
   "name": "python3"
  },
  "language_info": {
   "codemirror_mode": {
    "name": "ipython",
    "version": 3
   },
   "file_extension": ".py",
   "mimetype": "text/x-python",
   "name": "python",
   "nbconvert_exporter": "python",
   "pygments_lexer": "ipython3",
   "version": "3.8.8"
  }
 },
 "nbformat": 4,
 "nbformat_minor": 5
}
